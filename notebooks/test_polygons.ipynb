{
 "cells": [
  {
   "cell_type": "code",
   "execution_count": 1,
   "metadata": {},
   "outputs": [],
   "source": [
    "import xtgeo\n",
    "import resqpy\n",
    "import numpy as np\n",
    "import pandas as pd\n",
    "from resqpy.model import Model, new_model\n",
    "from resqpy.surface import PointSet\n",
    "from resqpy.crs import Crs\n",
    "\n",
    "from fmu.sumo.explorer import Explorer\n",
    "sumo = Explorer(\"dev\")\n",
    "polygons = sumo.get_polygons_by_uuid(\"769c204d-9f8f-92ed-ea37-3cef79f282c8\")"
   ]
  },
  {
   "cell_type": "code",
   "execution_count": 2,
   "metadata": {},
   "outputs": [
    {
     "data": {
      "text/plain": [
       "{'tagname': 'GL_faultlines_extract_postprocess',\n",
       " 'is_prediction': True,\n",
       " 'bbox': {'ymin': 5929956.412841797,\n",
       "  'zmin': 1601.9921875,\n",
       "  'xmin': 459423.5546875,\n",
       "  'ymax': 5937771.147949219,\n",
       "  'zmax': 1882.09521484375,\n",
       "  'xmax': 465773.7509765625},\n",
       " 'format': 'csv',\n",
       " 'name': 'VOLANTIS GP. Base',\n",
       " 'stratigraphic': True,\n",
       " 'vertical_domain': 'depth',\n",
       " 'is_observation': False,\n",
       " 'content': 'depth',\n",
       " 'spec': {'npolys': 6}}"
      ]
     },
     "execution_count": 2,
     "metadata": {},
     "output_type": "execute_result"
    }
   ],
   "source": [
    "polydata = polygons.metadata['data']\n",
    "polydata"
   ]
  },
  {
   "attachments": {},
   "cell_type": "markdown",
   "metadata": {},
   "source": [
    "Instantiate new model of polygons"
   ]
  },
  {
   "cell_type": "code",
   "execution_count": 3,
   "metadata": {},
   "outputs": [],
   "source": [
    "#model = Model(new_epc=True)\n",
    "model = new_model(epc_file=\"polygons.epc\")"
   ]
  },
  {
   "attachments": {},
   "cell_type": "markdown",
   "metadata": {},
   "source": [
    "Add \"default\" coordinate reference system to the model"
   ]
  },
  {
   "cell_type": "code",
   "execution_count": 4,
   "metadata": {},
   "outputs": [],
   "source": [
    "crs = Crs(model, title=\"Default Coordinate Reference System\")"
   ]
  },
  {
   "attachments": {},
   "cell_type": "markdown",
   "metadata": {},
   "source": [
    "Add a pointset (different patches of several points) of the polygons data to the model"
   ]
  },
  {
   "cell_type": "code",
   "execution_count": 5,
   "metadata": {},
   "outputs": [
    {
     "data": {
      "text/html": [
       "<div>\n",
       "<style scoped>\n",
       "    .dataframe tbody tr th:only-of-type {\n",
       "        vertical-align: middle;\n",
       "    }\n",
       "\n",
       "    .dataframe tbody tr th {\n",
       "        vertical-align: top;\n",
       "    }\n",
       "\n",
       "    .dataframe thead th {\n",
       "        text-align: right;\n",
       "    }\n",
       "</style>\n",
       "<table border=\"1\" class=\"dataframe\">\n",
       "  <thead>\n",
       "    <tr style=\"text-align: right;\">\n",
       "      <th></th>\n",
       "      <th>X</th>\n",
       "      <th>Y</th>\n",
       "      <th>Z</th>\n",
       "      <th>ID</th>\n",
       "    </tr>\n",
       "  </thead>\n",
       "  <tbody>\n",
       "    <tr>\n",
       "      <th>0</th>\n",
       "      <td>460605.935547</td>\n",
       "      <td>5.935551e+06</td>\n",
       "      <td>1668.652466</td>\n",
       "      <td>0</td>\n",
       "    </tr>\n",
       "    <tr>\n",
       "      <th>1</th>\n",
       "      <td>460606.017334</td>\n",
       "      <td>5.935521e+06</td>\n",
       "      <td>1666.152466</td>\n",
       "      <td>0</td>\n",
       "    </tr>\n",
       "    <tr>\n",
       "      <th>2</th>\n",
       "      <td>460604.712036</td>\n",
       "      <td>5.935503e+06</td>\n",
       "      <td>1664.615845</td>\n",
       "      <td>0</td>\n",
       "    </tr>\n",
       "    <tr>\n",
       "      <th>3</th>\n",
       "      <td>460604.477661</td>\n",
       "      <td>5.935432e+06</td>\n",
       "      <td>1662.211304</td>\n",
       "      <td>0</td>\n",
       "    </tr>\n",
       "    <tr>\n",
       "      <th>4</th>\n",
       "      <td>460604.581665</td>\n",
       "      <td>5.935408e+06</td>\n",
       "      <td>1661.408447</td>\n",
       "      <td>0</td>\n",
       "    </tr>\n",
       "    <tr>\n",
       "      <th>...</th>\n",
       "      <td>...</td>\n",
       "      <td>...</td>\n",
       "      <td>...</td>\n",
       "      <td>...</td>\n",
       "    </tr>\n",
       "    <tr>\n",
       "      <th>992</th>\n",
       "      <td>462238.666687</td>\n",
       "      <td>5.933122e+06</td>\n",
       "      <td>1677.452759</td>\n",
       "      <td>5</td>\n",
       "    </tr>\n",
       "    <tr>\n",
       "      <th>993</th>\n",
       "      <td>462228.221069</td>\n",
       "      <td>5.933142e+06</td>\n",
       "      <td>1677.865234</td>\n",
       "      <td>5</td>\n",
       "    </tr>\n",
       "    <tr>\n",
       "      <th>994</th>\n",
       "      <td>462217.921173</td>\n",
       "      <td>5.933162e+06</td>\n",
       "      <td>1678.282959</td>\n",
       "      <td>5</td>\n",
       "    </tr>\n",
       "    <tr>\n",
       "      <th>995</th>\n",
       "      <td>462195.362915</td>\n",
       "      <td>5.933224e+06</td>\n",
       "      <td>1678.972778</td>\n",
       "      <td>5</td>\n",
       "    </tr>\n",
       "    <tr>\n",
       "      <th>996</th>\n",
       "      <td>462190.008331</td>\n",
       "      <td>5.933237e+06</td>\n",
       "      <td>1679.453857</td>\n",
       "      <td>5</td>\n",
       "    </tr>\n",
       "  </tbody>\n",
       "</table>\n",
       "<p>997 rows × 4 columns</p>\n",
       "</div>"
      ],
      "text/plain": [
       "                 X             Y            Z  ID\n",
       "0    460605.935547  5.935551e+06  1668.652466   0\n",
       "1    460606.017334  5.935521e+06  1666.152466   0\n",
       "2    460604.712036  5.935503e+06  1664.615845   0\n",
       "3    460604.477661  5.935432e+06  1662.211304   0\n",
       "4    460604.581665  5.935408e+06  1661.408447   0\n",
       "..             ...           ...          ...  ..\n",
       "992  462238.666687  5.933122e+06  1677.452759   5\n",
       "993  462228.221069  5.933142e+06  1677.865234   5\n",
       "994  462217.921173  5.933162e+06  1678.282959   5\n",
       "995  462195.362915  5.933224e+06  1678.972778   5\n",
       "996  462190.008331  5.933237e+06  1679.453857   5\n",
       "\n",
       "[997 rows x 4 columns]"
      ]
     },
     "execution_count": 5,
     "metadata": {},
     "output_type": "execute_result"
    }
   ],
   "source": [
    "df = pd.read_csv(polygons.blob)\n",
    "df"
   ]
  },
  {
   "cell_type": "code",
   "execution_count": 6,
   "metadata": {},
   "outputs": [],
   "source": [
    "pointset = PointSet(model, title=\"Polygons Point Set\", crs_uuid=crs.uuid)\n",
    "\n",
    "# Append whole fmu metadata dict to pointset\n",
    "pointset.append_extra_metadata(polygons.metadata)"
   ]
  },
  {
   "cell_type": "code",
   "execution_count": 7,
   "metadata": {},
   "outputs": [],
   "source": [
    "# Add all polygons as different patches\n",
    "id_string = \"POLY_ID\" if \"POLY_ID\" in df.columns else \"ID\"\n",
    "for id in range(0, polydata['spec']['npolys']):\n",
    "    pointset.add_patch(df.loc[df[id_string] == id].to_numpy()[:, :3])"
   ]
  },
  {
   "attachments": {},
   "cell_type": "markdown",
   "metadata": {},
   "source": [
    "Output our current polygons model"
   ]
  },
  {
   "cell_type": "code",
   "execution_count": 8,
   "metadata": {},
   "outputs": [
    {
     "data": {
      "text/plain": [
       "<Element {http://www.energistics.org/energyml/data/commonv2}EpcExternalPartReference at 0x18cbf222a80>"
      ]
     },
     "execution_count": 8,
     "metadata": {},
     "output_type": "execute_result"
    }
   ],
   "source": [
    "# Write all metadata to epc file\n",
    "crs.create_xml()\n",
    "pointset.create_xml()\n",
    "model.store_epc(\"polygons.epc\")\n",
    "\n",
    "# Write data to hdf5 file\n",
    "pointset.write_hdf5()\n",
    "model.create_hdf5_ext(file_name=\"polygons.h5\")"
   ]
  },
  {
   "attachments": {},
   "cell_type": "markdown",
   "metadata": {},
   "source": [
    "Try to reopen a new model from the files we just saved"
   ]
  },
  {
   "cell_type": "code",
   "execution_count": 9,
   "metadata": {},
   "outputs": [
    {
     "data": {
      "text/plain": [
       "['obj_LocalDepth3dCrs_17cbbff3-1a62-11ee-8e6e-00d49ee52a08.xml',\n",
       " 'obj_PointSetRepresentation_180b0abb-1a62-11ee-833f-00d49ee52a08.xml']"
      ]
     },
     "execution_count": 9,
     "metadata": {},
     "output_type": "execute_result"
    }
   ],
   "source": [
    "# Recreate the model from epc file\n",
    "read_model = Model(\"polygons.epc\")\n",
    "read_model.parts()"
   ]
  },
  {
   "cell_type": "code",
   "execution_count": 10,
   "metadata": {},
   "outputs": [
    {
     "data": {
      "text/plain": [
       "['Default Coordinate Reference System', 'Polygons Point Set']"
      ]
     },
     "execution_count": 10,
     "metadata": {},
     "output_type": "execute_result"
    }
   ],
   "source": [
    "read_model.titles()"
   ]
  },
  {
   "cell_type": "code",
   "execution_count": 11,
   "metadata": {},
   "outputs": [
    {
     "data": {
      "text/plain": [
       "'polygons.h5'"
      ]
     },
     "execution_count": 11,
     "metadata": {},
     "output_type": "execute_result"
    }
   ],
   "source": [
    "read_model.h5_file_name()"
   ]
  },
  {
   "cell_type": "code",
   "execution_count": 12,
   "metadata": {},
   "outputs": [
    {
     "data": {
      "text/plain": [
       "UUID('17ca2e21-1a62-11ee-9f86-00d49ee52a08')"
      ]
     },
     "execution_count": 12,
     "metadata": {},
     "output_type": "execute_result"
    }
   ],
   "source": [
    "read_model.h5_uuid()"
   ]
  },
  {
   "attachments": {},
   "cell_type": "markdown",
   "metadata": {},
   "source": [
    "Check that stored array is intact"
   ]
  },
  {
   "cell_type": "code",
   "execution_count": 13,
   "metadata": {},
   "outputs": [
    {
     "name": "stdout",
     "output_type": "stream",
     "text": [
      "Shape: (997, 3)\n",
      "Sample array piece: [4.60604711e+05 5.93537787e+06 1.66040405e+03]\n",
      "Sample array piece: [4.63320068e+05 5.93156164e+06 1.71533508e+03]\n"
     ]
    }
   ],
   "source": [
    "read_pointset_uuid = read_model.uuid(obj_type=\"obj_PointSetRepresentation\")\n",
    "\n",
    "read_pointset = PointSet(read_model, uuid=read_pointset_uuid)\n",
    "print(\"Shape:\", read_pointset.full_array_ref().shape)\n",
    "print(\"Sample array piece:\", read_pointset.single_patch_array_ref(0)[5])\n",
    "print(\"Sample array piece:\", read_pointset.single_patch_array_ref(4)[50])"
   ]
  },
  {
   "cell_type": "code",
   "execution_count": 14,
   "metadata": {},
   "outputs": [
    {
     "name": "stdout",
     "output_type": "stream",
     "text": [
      "Shape: (997, 3)\n",
      "Sample array piece: [4.60604711e+05 5.93537787e+06 1.66040405e+03]\n",
      "Sample array piece: [4.63320068e+05 5.93156164e+06 1.71533508e+03]\n"
     ]
    }
   ],
   "source": [
    "print(\"Shape:\", pointset.full_array_ref().shape)\n",
    "print(\"Sample array piece:\", pointset.single_patch_array_ref(0)[5])\n",
    "print(\"Sample array piece:\", pointset.single_patch_array_ref(4)[50])"
   ]
  },
  {
   "attachments": {},
   "cell_type": "markdown",
   "metadata": {},
   "source": [
    "Check that extra metadata is intact"
   ]
  },
  {
   "cell_type": "code",
   "execution_count": 15,
   "metadata": {},
   "outputs": [
    {
     "data": {
      "text/plain": [
       "{'masterdata': \"{'smda': {'field': [{'identifier': 'DROGON', 'uuid': '00000000-0000-0000-0000-000000000000'}]}}\",\n",
       " 'file': \"{'checksum_md5': 'c9f4ebc4ed84efb5a013126e150fe434', 'relative_path': 'realization-2/iter-0/share/results/polygons/basevolantis--gl_faultlines_extract_postprocess.csv'}\",\n",
       " 'access': \"{'asset': {'name': 'Drogon'}}\",\n",
       " 'data': \"{'tagname': 'GL_faultlines_extract_postprocess', 'is_prediction': True, 'bbox': {'ymin': 5929956.412841797, 'zmin': 1601.9921875, 'xmin': 459423.5546875, 'ymax': 5937771.147949219, 'zmax': 1882.09521484375, 'xmax': 465773.7509765625}, 'format': 'csv', 'name': 'VOLANTIS GP. Base', 'stratigraphic': True, 'vertical_domain': 'depth', 'is_observation': False, 'content': 'depth', 'spec': {'npolys': 6}}\",\n",
       " 'fmu': \"{'context': {'stage': 'realization'}, 'iteration': {'name': 'iter-0'}, 'case': {'name': 'rowh_kmd_bleed_fri01', 'user': {'id': 'rowh'}}, 'realization': {'id': 2}}\"}"
      ]
     },
     "execution_count": 15,
     "metadata": {},
     "output_type": "execute_result"
    }
   ],
   "source": [
    "read_pointset.extra_metadata"
   ]
  },
  {
   "cell_type": "code",
   "execution_count": 16,
   "metadata": {},
   "outputs": [
    {
     "data": {
      "text/plain": [
       "{'masterdata': \"{'smda': {'field': [{'identifier': 'DROGON', 'uuid': '00000000-0000-0000-0000-000000000000'}]}}\",\n",
       " 'file': \"{'checksum_md5': 'c9f4ebc4ed84efb5a013126e150fe434', 'relative_path': 'realization-2/iter-0/share/results/polygons/basevolantis--gl_faultlines_extract_postprocess.csv'}\",\n",
       " 'access': \"{'asset': {'name': 'Drogon'}}\",\n",
       " 'data': \"{'tagname': 'GL_faultlines_extract_postprocess', 'is_prediction': True, 'bbox': {'ymin': 5929956.412841797, 'zmin': 1601.9921875, 'xmin': 459423.5546875, 'ymax': 5937771.147949219, 'zmax': 1882.09521484375, 'xmax': 465773.7509765625}, 'format': 'csv', 'name': 'VOLANTIS GP. Base', 'stratigraphic': True, 'vertical_domain': 'depth', 'is_observation': False, 'content': 'depth', 'spec': {'npolys': 6}}\",\n",
       " 'fmu': \"{'context': {'stage': 'realization'}, 'iteration': {'name': 'iter-0'}, 'case': {'name': 'rowh_kmd_bleed_fri01', 'user': {'id': 'rowh'}}, 'realization': {'id': 2}}\"}"
      ]
     },
     "execution_count": 16,
     "metadata": {},
     "output_type": "execute_result"
    }
   ],
   "source": [
    "pointset.extra_metadata"
   ]
  }
 ],
 "metadata": {
  "kernelspec": {
   "display_name": "venv",
   "language": "python",
   "name": "python3"
  },
  "language_info": {
   "codemirror_mode": {
    "name": "ipython",
    "version": 3
   },
   "file_extension": ".py",
   "mimetype": "text/x-python",
   "name": "python",
   "nbconvert_exporter": "python",
   "pygments_lexer": "ipython3",
   "version": "3.11.4"
  },
  "orig_nbformat": 4
 },
 "nbformat": 4,
 "nbformat_minor": 2
}
