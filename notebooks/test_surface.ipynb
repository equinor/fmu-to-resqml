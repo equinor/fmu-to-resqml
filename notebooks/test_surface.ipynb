{
 "cells": [
  {
   "cell_type": "code",
   "execution_count": 33,
   "metadata": {},
   "outputs": [],
   "source": [
    "import xtgeo\n",
    "import resqpy\n",
    "import numpy as np\n",
    "import pandas as pd\n",
    "from resqpy.model import Model, new_model\n",
    "from resqpy.surface import Mesh\n",
    "from resqpy.crs import Crs\n",
    "\n",
    "from fmu.sumo.explorer import Explorer\n",
    "sumo = Explorer(\"dev\")\n",
    "surface = sumo.get_surface_by_uuid(\"87f9423f-4d9d-9ef1-fb41-e6be452f0a17\")"
   ]
  },
  {
   "cell_type": "code",
   "execution_count": 34,
   "metadata": {},
   "outputs": [
    {
     "data": {
      "text/plain": [
       "{'tagname': 'DS_extract_geogrid',\n",
       " 'is_prediction': True,\n",
       " 'bbox': {'ymin': 5926551.219238281,\n",
       "  'zmin': 1600.4984130859375,\n",
       "  'xmin': 456063.69140625,\n",
       "  'ymax': 5939431.219238281,\n",
       "  'zmax': 2000.4561767578125,\n",
       "  'xmax': 467483.69140625},\n",
       " 'format': 'irap_binary',\n",
       " 'name': 'VOLANTIS GP. Base',\n",
       " 'stratigraphic': True,\n",
       " 'vertical_domain': 'depth',\n",
       " 'is_observation': False,\n",
       " 'content': 'depth',\n",
       " 'spec': {'ncol': 572,\n",
       "  'yori': 5926551.219238281,\n",
       "  'xori': 456063.69140625,\n",
       "  'rotation': 0,\n",
       "  'undef': 1e+30,\n",
       "  'yinc': 20,\n",
       "  'xinc': 20,\n",
       "  'nrow': 645,\n",
       "  'yflip': 1}}"
      ]
     },
     "execution_count": 34,
     "metadata": {},
     "output_type": "execute_result"
    }
   ],
   "source": [
    "surfdata = surface.metadata['data']\n",
    "surfdata"
   ]
  },
  {
   "attachments": {},
   "cell_type": "markdown",
   "metadata": {},
   "source": [
    "Instantiate new model of surface "
   ]
  },
  {
   "cell_type": "code",
   "execution_count": 35,
   "metadata": {},
   "outputs": [],
   "source": [
    "#model = Model(new_epc=True)\n",
    "model = new_model(epc_file=\"surface.epc\")"
   ]
  },
  {
   "attachments": {},
   "cell_type": "markdown",
   "metadata": {},
   "source": [
    "Add coordinate reference system of the surface metadata to the model"
   ]
  },
  {
   "cell_type": "code",
   "execution_count": 36,
   "metadata": {},
   "outputs": [],
   "source": [
    "x_offset = surfdata['spec']['xori']\n",
    "y_offset = surfdata['spec']['yori']\n",
    "rotation = surfdata['spec']['rotation']\n",
    "z_inc_down = surfdata['spec']['yflip'] # Determines \"handedness\" of coordinate system https://en.wikipedia.org/wiki/Right-hand_rule#Coordinates\n",
    "\n",
    "crs = Crs(model, x_offset=x_offset, y_offset=y_offset, rotation=rotation, title=\"Surface Coordinate Reference System\", z_inc_down=bool(z_inc_down))"
   ]
  },
  {
   "attachments": {},
   "cell_type": "markdown",
   "metadata": {},
   "source": [
    "Add a mesh (2d grid) of the surface data to the model"
   ]
  },
  {
   "cell_type": "code",
   "execution_count": 37,
   "metadata": {},
   "outputs": [],
   "source": [
    "surf = xtgeo.surface_from_file(surface.blob)\n",
    "\n",
    "# Here xy(z) -> ij where i = x, j = y dirs\n",
    "origin = (0,0,0)\n",
    "ni = surfdata['spec']['nrow']\n",
    "nj = surfdata['spec']['ncol']\n",
    "dxyz_dij = np.array([[surfdata['spec']['xinc'], 0, 0],\n",
    "                     [0, surfdata['spec']['yinc'], 0]])\n",
    "z_values = np.where(surf.values.mask, np.nan, surf.values.data) # Turn masked array into normal array with values masked out as nan\n",
    "\n",
    "mesh = Mesh(model, z_values=z_values, origin=origin, ni=ni, nj=nj, dxyz_dij=dxyz_dij, crs_uuid = crs.uuid, title=\"Surface\")\n",
    "\n",
    "# Append whole fmu metadata dict to mesh\n",
    "mesh.append_extra_metadata(surface.metadata)"
   ]
  },
  {
   "attachments": {},
   "cell_type": "markdown",
   "metadata": {},
   "source": [
    "Output our current surface model"
   ]
  },
  {
   "cell_type": "code",
   "execution_count": 38,
   "metadata": {},
   "outputs": [
    {
     "data": {
      "text/plain": [
       "<Element {http://www.energistics.org/energyml/data/commonv2}EpcExternalPartReference at 0x28ede8b9080>"
      ]
     },
     "execution_count": 38,
     "metadata": {},
     "output_type": "execute_result"
    }
   ],
   "source": [
    "# Write all metadata to epc file\n",
    "crs.create_xml()\n",
    "mesh.create_xml()\n",
    "model.store_epc(\"surface.epc\")\n",
    "\n",
    "# Write data to hdf5 file\n",
    "mesh.write_hdf5()\n",
    "model.create_hdf5_ext(file_name=\"surface.h5\")"
   ]
  },
  {
   "attachments": {},
   "cell_type": "markdown",
   "metadata": {},
   "source": [
    "Try to reopen a new model from the files we just saved"
   ]
  },
  {
   "cell_type": "code",
   "execution_count": 39,
   "metadata": {},
   "outputs": [
    {
     "data": {
      "text/plain": [
       "['obj_LocalDepth3dCrs_645e5128-197b-11ee-bfdd-00d49ee52a08.xml',\n",
       " 'obj_Grid2dRepresentation_64d3022d-197b-11ee-9f1e-00d49ee52a08.xml']"
      ]
     },
     "execution_count": 39,
     "metadata": {},
     "output_type": "execute_result"
    }
   ],
   "source": [
    "# Recreate the model from epc file\n",
    "read_model = Model(\"surface.epc\")\n",
    "read_model.parts()"
   ]
  },
  {
   "cell_type": "code",
   "execution_count": 40,
   "metadata": {},
   "outputs": [
    {
     "data": {
      "text/plain": [
       "['Surface Coordinate Reference System', 'Surface']"
      ]
     },
     "execution_count": 40,
     "metadata": {},
     "output_type": "execute_result"
    }
   ],
   "source": [
    "read_model.titles()"
   ]
  },
  {
   "cell_type": "code",
   "execution_count": 41,
   "metadata": {},
   "outputs": [
    {
     "data": {
      "text/plain": [
       "'surface.h5'"
      ]
     },
     "execution_count": 41,
     "metadata": {},
     "output_type": "execute_result"
    }
   ],
   "source": [
    "read_model.h5_file_name()"
   ]
  },
  {
   "cell_type": "code",
   "execution_count": 42,
   "metadata": {},
   "outputs": [
    {
     "data": {
      "text/plain": [
       "UUID('645cac0f-197b-11ee-b626-00d49ee52a08')"
      ]
     },
     "execution_count": 42,
     "metadata": {},
     "output_type": "execute_result"
    }
   ],
   "source": [
    "read_model.h5_uuid()"
   ]
  },
  {
   "attachments": {},
   "cell_type": "markdown",
   "metadata": {},
   "source": [
    "Check that stored array is intact"
   ]
  },
  {
   "cell_type": "code",
   "execution_count": 43,
   "metadata": {},
   "outputs": [
    {
     "name": "stdout",
     "output_type": "stream",
     "text": [
      "Shape: (572, 645, 3)\n",
      "Sample array piece: [ 820. 4120.   nan]\n",
      "Sample array piece: [4120.         4120.         1724.98217773]\n"
     ]
    }
   ],
   "source": [
    "read_mesh_uuid = read_model.uuid(obj_type=\"obj_Grid2dRepresentation\")\n",
    "\n",
    "read_mesh = Mesh(read_model, uuid=read_mesh_uuid)\n",
    "print(\"Shape:\", read_mesh.full_array_ref().shape)\n",
    "print(\"Sample array piece:\", read_mesh.full_array_ref()[206, 41])\n",
    "print(\"Sample array piece:\", read_mesh.full_array_ref()[206, 206])"
   ]
  },
  {
   "cell_type": "code",
   "execution_count": 44,
   "metadata": {},
   "outputs": [
    {
     "name": "stdout",
     "output_type": "stream",
     "text": [
      "Shape: (572, 645, 3)\n",
      "Sample array piece: [ 820. 4120.   nan]\n",
      "Sample array piece: [4120.         4120.         1724.98217773]\n"
     ]
    }
   ],
   "source": [
    "print(\"Shape:\", mesh.full_array_ref().shape)\n",
    "print(\"Sample array piece:\", mesh.full_array_ref()[206, 41])\n",
    "print(\"Sample array piece:\", read_mesh.full_array_ref()[206, 206])"
   ]
  },
  {
   "attachments": {},
   "cell_type": "markdown",
   "metadata": {},
   "source": [
    "Check that extra metadata is intact"
   ]
  },
  {
   "cell_type": "code",
   "execution_count": 45,
   "metadata": {},
   "outputs": [
    {
     "data": {
      "text/plain": [
       "{'masterdata': \"{'smda': {'field': [{'identifier': 'DROGON', 'uuid': '00000000-0000-0000-0000-000000000000'}]}}\",\n",
       " 'file': \"{'checksum_md5': '5818fdd860b445b41c337fd9d8150384', 'relative_path': 'realization-0/iter-0/share/results/maps/basevolantis--ds_extract_geogrid.gri'}\",\n",
       " 'access': \"{'asset': {'name': 'Drogon'}}\",\n",
       " 'data': \"{'tagname': 'DS_extract_geogrid', 'is_prediction': True, 'bbox': {'ymin': 5926551.219238281, 'zmin': 1600.4984130859375, 'xmin': 456063.69140625, 'ymax': 5939431.219238281, 'zmax': 2000.4561767578125, 'xmax': 467483.69140625}, 'format': 'irap_binary', 'name': 'VOLANTIS GP. Base', 'stratigraphic': True, 'vertical_domain': 'depth', 'is_observation': False, 'content': 'depth', 'spec': {'ncol': 572, 'yori': 5926551.219238281, 'xori': 456063.69140625, 'rotation': 0, 'undef': 1e+30, 'yinc': 20, 'xinc': 20, 'nrow': 645, 'yflip': 1}}\",\n",
       " 'fmu': \"{'context': {'stage': 'realization'}, 'iteration': {'name': 'iter-0'}, 'case': {'name': 'rowh_kmd_bleed_fri01', 'user': {'id': 'rowh'}}, 'realization': {'id': 0}}\"}"
      ]
     },
     "execution_count": 45,
     "metadata": {},
     "output_type": "execute_result"
    }
   ],
   "source": [
    "read_mesh.extra_metadata"
   ]
  },
  {
   "cell_type": "code",
   "execution_count": 46,
   "metadata": {},
   "outputs": [
    {
     "data": {
      "text/plain": [
       "{'masterdata': \"{'smda': {'field': [{'identifier': 'DROGON', 'uuid': '00000000-0000-0000-0000-000000000000'}]}}\",\n",
       " 'file': \"{'checksum_md5': '5818fdd860b445b41c337fd9d8150384', 'relative_path': 'realization-0/iter-0/share/results/maps/basevolantis--ds_extract_geogrid.gri'}\",\n",
       " 'access': \"{'asset': {'name': 'Drogon'}}\",\n",
       " 'data': \"{'tagname': 'DS_extract_geogrid', 'is_prediction': True, 'bbox': {'ymin': 5926551.219238281, 'zmin': 1600.4984130859375, 'xmin': 456063.69140625, 'ymax': 5939431.219238281, 'zmax': 2000.4561767578125, 'xmax': 467483.69140625}, 'format': 'irap_binary', 'name': 'VOLANTIS GP. Base', 'stratigraphic': True, 'vertical_domain': 'depth', 'is_observation': False, 'content': 'depth', 'spec': {'ncol': 572, 'yori': 5926551.219238281, 'xori': 456063.69140625, 'rotation': 0, 'undef': 1e+30, 'yinc': 20, 'xinc': 20, 'nrow': 645, 'yflip': 1}}\",\n",
       " 'fmu': \"{'context': {'stage': 'realization'}, 'iteration': {'name': 'iter-0'}, 'case': {'name': 'rowh_kmd_bleed_fri01', 'user': {'id': 'rowh'}}, 'realization': {'id': 0}}\"}"
      ]
     },
     "execution_count": 46,
     "metadata": {},
     "output_type": "execute_result"
    }
   ],
   "source": [
    "mesh.extra_metadata"
   ]
  },
  {
   "attachments": {},
   "cell_type": "markdown",
   "metadata": {},
   "source": [
    "Check array data intact using resqpy built in method"
   ]
  },
  {
   "cell_type": "code",
   "execution_count": 47,
   "metadata": {},
   "outputs": [
    {
     "data": {
      "text/plain": [
       "array([nan, nan])"
      ]
     },
     "execution_count": 47,
     "metadata": {},
     "output_type": "execute_result"
    }
   ],
   "source": [
    "read_mesh.surface().sample_z_at_xy_points(np.array([[200, 200], [200, 205]]))"
   ]
  },
  {
   "cell_type": "code",
   "execution_count": 48,
   "metadata": {},
   "outputs": [
    {
     "data": {
      "text/plain": [
       "array([1728.10559082, 1728.11261597])"
      ]
     },
     "execution_count": 48,
     "metadata": {},
     "output_type": "execute_result"
    }
   ],
   "source": [
    "read_mesh.surface().sample_z_at_xy_points(np.array([[4000, 4000], [4000, 4001]]))"
   ]
  }
 ],
 "metadata": {
  "kernelspec": {
   "display_name": "venv",
   "language": "python",
   "name": "python3"
  },
  "language_info": {
   "codemirror_mode": {
    "name": "ipython",
    "version": 3
   },
   "file_extension": ".py",
   "mimetype": "text/x-python",
   "name": "python",
   "nbconvert_exporter": "python",
   "pygments_lexer": "ipython3",
   "version": "3.11.4"
  },
  "orig_nbformat": 4
 },
 "nbformat": 4,
 "nbformat_minor": 2
}
