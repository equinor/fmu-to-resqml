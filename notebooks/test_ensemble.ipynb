{
 "cells": [
  {
   "cell_type": "code",
   "execution_count": 180,
   "metadata": {},
   "outputs": [],
   "source": [
    "import ast\n",
    "\n",
    "%matplotlib inline\n",
    "import numpy as np\n",
    "import pandas as pd\n",
    "import resqpy\n",
    "import xtgeo\n",
    "from fmu.sumo.explorer import Explorer\n",
    "from resqpy.crs import Crs\n",
    "from resqpy.model import Model, new_model\n",
    "from resqpy.surface import Mesh\n",
    "\n",
    "sumo = Explorer(\"dev\")"
   ]
  },
  {
   "cell_type": "code",
   "execution_count": 181,
   "metadata": {},
   "outputs": [],
   "source": [
    "def hash_spec(surface):\n",
    "    return hash(frozenset(surface.spec.items()))\n",
    "\n",
    "\n",
    "def create_crs(model, surface, i=\"\"):\n",
    "    x_offset = surface.spec[\"xori\"]\n",
    "    y_offset = surface.spec[\"yori\"]\n",
    "    rotation = surface.spec[\"rotation\"]\n",
    "    z_inc_down = bool(\n",
    "        surface.spec[\"yflip\"]\n",
    "    )  # Determines \"handedness\" of coordinate system https://en.wikipedia.org/wiki/Right-hand_rule#Coordinates\n",
    "    title = \"Surface Coordinate Reference System \" + str(i)\n",
    "\n",
    "    return Crs(\n",
    "        model,\n",
    "        x_offset=x_offset,\n",
    "        y_offset=y_offset,\n",
    "        rotation=rotation,\n",
    "        z_inc_down=z_inc_down,\n",
    "        title=title,\n",
    "    )"
   ]
  },
  {
   "attachments": {},
   "cell_type": "markdown",
   "metadata": {},
   "source": [
    "Find a case and create a model"
   ]
  },
  {
   "cell_type": "code",
   "execution_count": 182,
   "metadata": {},
   "outputs": [],
   "source": [
    "case = sumo.get_case_by_uuid(\"06e53a20-3384-4c0e-a9cc-202bebedf7c4\")\n",
    "\n",
    "model = Model(\n",
    "    epc_file=\"ensemble.epc\",\n",
    "    new_epc=True,\n",
    "    create_basics=True,\n",
    "    create_hdf5_ext=True,\n",
    ")"
   ]
  },
  {
   "attachments": {},
   "cell_type": "markdown",
   "metadata": {},
   "source": [
    "Filters telling what the ensemble should contain"
   ]
  },
  {
   "cell_type": "code",
   "execution_count": 183,
   "metadata": {},
   "outputs": [],
   "source": [
    "filter_by_name = False\n",
    "\n",
    "iterations = [\"iter-0\"]\n",
    "tagnames = [\"DS_extract_geogrid\", \"apstrend_aps_Crevasse_Average\"]\n",
    "names = (not filter_by_name) or [\"VOLANTIS GP. Top\", \"Volon Fm. Top\"]"
   ]
  },
  {
   "attachments": {},
   "cell_type": "markdown",
   "metadata": {},
   "source": [
    "Add all objects (surfaces) which fit the filters into the RESQML model"
   ]
  },
  {
   "cell_type": "code",
   "execution_count": 184,
   "metadata": {},
   "outputs": [
    {
     "name": "stdout",
     "output_type": "stream",
     "text": [
      "VOLANTIS GP. Base - 0\n",
      "VOLANTIS GP. Top - 1\n",
      "Therys Fm. Top - 2\n",
      "Volon Fm. Top - 0\n",
      "Therys Fm. Top - 0\n",
      "Volon Fm. Top - 2\n",
      "Therys Fm. Top - 1\n",
      "VOLANTIS GP. Top - 2\n",
      "VOLANTIS GP. Base - 2\n",
      "VOLANTIS GP. Top - 0\n",
      "VOLANTIS GP. Base - 1\n",
      "Volon Fm. Top - 1\n",
      "Valysar Fm. - 1\n",
      "Valysar Fm. - 2\n",
      "Valysar Fm. - 0\n"
     ]
    }
   ],
   "source": [
    "meshes = []\n",
    "crss = {}\n",
    "surfaces = case.surfaces.filter(\n",
    "    iteration=iterations, tagname=tagnames, name=names\n",
    ")\n",
    "for surface in surfaces:\n",
    "    # Check that object is a realization\n",
    "    if surface.realization is None:\n",
    "        continue\n",
    "\n",
    "    print(surface.name, \"-\", surface.realization)\n",
    "\n",
    "    # Generate CRS for object\n",
    "    if hash_spec(surface) not in crss:\n",
    "        crss[hash_spec(surface)] = create_crs(\n",
    "            model, surface, i=len(crss.keys())\n",
    "        )\n",
    "\n",
    "    # Retrieve the surface's respective crs\n",
    "    crs = crss[hash_spec(surface)]\n",
    "\n",
    "    # Create the mesh for the object\n",
    "    regsurf = xtgeo.surface_from_file(surface.blob)\n",
    "    regsurf.to_numpy().fill_value = surface.spec[\"undef\"]\n",
    "\n",
    "    # Here xy(z) -> ij where i = x, j = y dirs\n",
    "    origin = (0, 0, 0)\n",
    "    ni = surface.spec[\"nrow\"]\n",
    "    nj = surface.spec[\"ncol\"]\n",
    "    dxyz_dij = np.array(\n",
    "        [[surface.spec[\"xinc\"], 0, 0], [0, surface.spec[\"yinc\"], 0]]\n",
    "    )\n",
    "    z_values = regsurf.to_numpy()\n",
    "    crs_uuid = crs.uuid\n",
    "    title = \"Surface Mesh\"\n",
    "\n",
    "    mesh = Mesh(\n",
    "        model,\n",
    "        z_values=z_values,\n",
    "        origin=origin,\n",
    "        ni=ni,\n",
    "        nj=nj,\n",
    "        dxyz_dij=dxyz_dij,\n",
    "        crs_uuid=crs_uuid,\n",
    "        title=title,\n",
    "    )\n",
    "    meshes.append(mesh)\n",
    "\n",
    "    # Append fmu metadata dict to the mesh\n",
    "    extra_metadata = surface.metadata\n",
    "    extra_metadata[\"uuid\"] = surface.uuid\n",
    "    mesh.append_extra_metadata(extra_metadata)"
   ]
  },
  {
   "attachments": {},
   "cell_type": "markdown",
   "metadata": {},
   "source": [
    "Write and output the current model"
   ]
  },
  {
   "cell_type": "code",
   "execution_count": 185,
   "metadata": {},
   "outputs": [
    {
     "data": {
      "text/plain": [
       "<Element {http://www.energistics.org/energyml/data/commonv2}EpcExternalPartReference at 0x22d58353540>"
      ]
     },
     "execution_count": 185,
     "metadata": {},
     "output_type": "execute_result"
    }
   ],
   "source": [
    "# Write all metadata to epc file\n",
    "for crs in crss.to_numpy()():\n",
    "    crs.create_xml()\n",
    "\n",
    "for mesh in meshes:\n",
    "    mesh.create_xml()\n",
    "\n",
    "model.store_epc(\"ensemble.epc\")\n",
    "\n",
    "# Write data to hdf5 file\n",
    "for mesh in meshes:\n",
    "    mesh.write_hdf5()\n",
    "\n",
    "model.create_hdf5_ext(file_name=\"ensemble.h5\")"
   ]
  }
 ],
 "metadata": {
  "kernelspec": {
   "display_name": ".venv",
   "language": "python",
   "name": "python3"
  },
  "language_info": {
   "codemirror_mode": {
    "name": "ipython",
    "version": 3
   },
   "file_extension": ".py",
   "mimetype": "text/x-python",
   "name": "python",
   "nbconvert_exporter": "python",
   "pygments_lexer": "ipython3",
   "version": "3.11.4"
  },
  "orig_nbformat": 4
 },
 "nbformat": 4,
 "nbformat_minor": 2
}
